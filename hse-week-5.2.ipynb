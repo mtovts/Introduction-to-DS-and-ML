{
 "cells": [
  {
   "cell_type": "markdown",
   "metadata": {},
   "source": [
    "# Введение\n",
    "Построение композиции — важный подход в машинном обучении, который позволяет объединять большое количество слабых алгоритмов в один сильный. Данный подход широко используется на практике в самых разных задачах.\n",
    "\n",
    "На лекциях был рассмотрен метод градиентного бустинга, который последовательно строит композицию алгоритмов, причем каждый следующий алгоритм выбирается так, чтобы исправлять ошибки уже имеющейся композиции. Обычно в качестве базовых алгоритмов используют деревья небольшой глубины, поскольку их достаточно легко строить, и при этом они дают нелинейные разделяющие поверхности.\n",
    "\n",
    "Другой метод построения композиций — случайный лес. В нем, в отличие от градиентного бустинга, отдельные деревья строятся независимо и без каких-либо ограничений на глубину — дерево наращивается до тех пор, пока не покажет наилучшее качество на обучающей выборке.\n",
    "\n",
    "В этом задании мы будем иметь дело с задачей классификации. В качестве функции потерь будем использовать log-loss:\n",
    "\n"
   ]
  },
  {
   "cell_type": "markdown",
   "metadata": {},
   "source": [
    "L(y, z) = −y log z − (1 − y) log 1 − z"
   ]
  },
  {
   "cell_type": "markdown",
   "metadata": {},
   "source": [
    "Здесь через y обозначен истинный ответ, через z — прогноз алгоритма. Данная функция является дифференцируемой, и поэтому подходит для использования в градиентном бустинге. Также можно показать, что при ее использовании итоговый алгоритм будет приближать истинные вероятности классов."
   ]
  },
  {
   "cell_type": "markdown",
   "metadata": {},
   "source": [
    "# Реализация в sklearn\n",
    "В пакете scikit-learn градиентный бустинг реализован в модуле ensemble в виде классов GradientBoostingClassifier и GradientBoostingRegressor. Основные параметры, которые будут интересовать нас: n_estimators, learning_rate. Иногда может быть полезен параметр verbose для отслеживания процесса обучения.\n",
    "\n",
    "Чтобы была возможность оценить качество построенной композиции на каждой итерации, у класса есть метод staged_decision_function. Для заданной выборки он возвращает ответ на каждой итерации.\n",
    "\n",
    "Помимо алгоритмов машинного обучения, в пакете scikit-learn представлено большое число различных инструментов. В этом задании будет предложено воспользоваться функцией train_test_split модуля cross_validation. С помощью нее можно разбивать выборки случайным образом. На вход можно передать несколько выборок (с условием, что они имеют одинаковое количество строк). Пусть, например, имеются данные X и y, где X — это признаковое описание объектов, y — целевое значение. Тогда следующий код будет удобен для разбиения этих данных на обучающее и тестовое множества:"
   ]
  },
  {
   "cell_type": "markdown",
   "metadata": {},
   "source": [
    "Обратите внимание, что при фиксированном параметре random_state результат разбиения можно воспроизвести."
   ]
  },
  {
   "cell_type": "markdown",
   "metadata": {},
   "source": [
    "Метрика log-loss реализована в пакете metrics: sklearn.metrics.log_loss. Заметим, что данная метрика предназначена для классификаторов, выдающих оценку принадлежности классу, а не бинарные ответы. И градиентный бустинг, и случайный лес умеют строить такие прогнозы — для этого нужно использовать метод predict_proba:"
   ]
  },
  {
   "cell_type": "code",
   "execution_count": 1,
   "metadata": {},
   "outputs": [],
   "source": [
    "import numpy as np\n",
    "import pandas as pd\n",
    "import matplotlib.pyplot as plt\n",
    "%matplotlib inline\n",
    "\n",
    "from sklearn.model_selection import train_test_split\n",
    "from sklearn.metrics import log_loss\n",
    "from sklearn.ensemble import GradientBoostingClassifier, GradientBoostingRegressor"
   ]
  },
  {
   "cell_type": "markdown",
   "metadata": {},
   "source": [
    "1. Загрузите выборку из файла gbm-data.csv с помощью pandas и преобразуйте ее в массив numpy (параметр values у датафрейма). В первой колонке файла с данными записано, была или нет реакция. Все остальные колонки (d1 - d1776) содержат различные характеристики молекулы, такие как размер, форма и т.д. Разбейте выборку на обучающую и тестовую, используя функцию train_test_split с параметрами test_size = 0.8 и random_state = 241."
   ]
  },
  {
   "cell_type": "code",
   "execution_count": 2,
   "metadata": {},
   "outputs": [],
   "source": [
    "gbm_data = pd.read_csv('_75fb7a1b6f3431b6217cdbcba2fd30b9_gbm-data.csv')\n",
    "gbm_target = gbm_data.pop('Activity').to_frame().values\n",
    "gbm_data = gbm_data.values"
   ]
  },
  {
   "cell_type": "code",
   "execution_count": 3,
   "metadata": {},
   "outputs": [
    {
     "data": {
      "text/plain": [
       "array([[1],\n",
       "       [1],\n",
       "       [1],\n",
       "       ...,\n",
       "       [0],\n",
       "       [1],\n",
       "       [0]], dtype=int64)"
      ]
     },
     "execution_count": 3,
     "metadata": {},
     "output_type": "execute_result"
    }
   ],
   "source": [
    "gbm_target"
   ]
  },
  {
   "cell_type": "code",
   "execution_count": 4,
   "metadata": {},
   "outputs": [
    {
     "data": {
      "text/plain": [
       "array([[0.        , 0.49700901, 0.1       , ..., 0.        , 0.        ,\n",
       "        0.        ],\n",
       "       [0.36666667, 0.60629148, 0.05      , ..., 0.        , 1.        ,\n",
       "        0.        ],\n",
       "       [0.0333    , 0.48012427, 0.        , ..., 0.        , 0.        ,\n",
       "        0.        ],\n",
       "       ...,\n",
       "       [0.2       , 0.52056377, 0.        , ..., 0.        , 0.        ,\n",
       "        0.        ],\n",
       "       [0.1       , 0.7656462 , 0.        , ..., 0.        , 0.        ,\n",
       "        0.        ],\n",
       "       [0.13333333, 0.53395198, 0.        , ..., 0.        , 0.        ,\n",
       "        0.        ]])"
      ]
     },
     "execution_count": 4,
     "metadata": {},
     "output_type": "execute_result"
    }
   ],
   "source": [
    "gbm_data"
   ]
  },
  {
   "cell_type": "code",
   "execution_count": 5,
   "metadata": {},
   "outputs": [],
   "source": [
    "X_train, X_test, y_train, y_test = train_test_split(gbm_data, gbm_target,  test_size = 0.8, random_state = 241)"
   ]
  },
  {
   "cell_type": "markdown",
   "metadata": {},
   "source": [
    "2. Обучите GradientBoostingClassifier с параметрами n_estimators=250, verbose=True, random_state=241 и для каждого значения learning_rate из списка [1, 0.5, 0.3, 0.2, 0.1] проделайте следующее:\n",
    "\n",
    "Используйте метод staged_decision_function для предсказания качества на обучающей и тестовой выборке на каждой итерации.\n",
    "\n",
    "Преобразуйте полученное предсказание с помощью сигмоидной функции по формуле 1 / (1 + e^{−y_pred}), где y_pred — предсказанное значение.\n",
    "\n",
    "Вычислите и постройте график значений log-loss (которую можно посчитать с помощью функции sklearn.metrics.log_loss) на обучающей и тестовой выборках, а также найдите минимальное значение метрики и номер итерации, на которой оно достигается."
   ]
  },
  {
   "cell_type": "code",
   "execution_count": 6,
   "metadata": {},
   "outputs": [
    {
     "name": "stderr",
     "output_type": "stream",
     "text": [
      "C:\\ProgramData\\Anaconda3\\lib\\site-packages\\sklearn\\ensemble\\_gb.py:1454: DataConversionWarning: A column-vector y was passed when a 1d array was expected. Please change the shape of y to (n_samples, ), for example using ravel().\n",
      "  y = column_or_1d(y, warn=True)\n"
     ]
    },
    {
     "name": "stdout",
     "output_type": "stream",
     "text": [
      "      Iter       Train Loss   Remaining Time \n",
      "         1           1.0190           11.21s\n",
      "         2           0.9192           10.29s\n",
      "         3           0.8272            9.97s\n",
      "         4           0.7834            9.84s\n",
      "         5           0.7109            9.75s\n",
      "         6           0.6368            9.80s\n",
      "         7           0.5797            9.72s\n",
      "         8           0.5610            9.71s\n",
      "         9           0.5185            9.59s\n",
      "        10           0.4984            9.58s\n",
      "        20           0.1999           10.40s\n",
      "        30           0.1313           10.25s\n",
      "        40           0.0790            9.83s\n",
      "        50           0.0511            9.09s\n",
      "        60           0.0352            8.54s\n",
      "        70           0.0245            7.96s\n",
      "        80           0.0162            7.42s\n",
      "        90           0.0114            6.92s\n",
      "       100           0.0077            6.47s\n",
      "       200           0.0004            1.98s\n",
      "Learning_rate: 1\n",
      "      Iter       Train Loss   Remaining Time \n",
      "         1           1.1255           10.21s\n",
      "         2           1.0035            9.92s\n",
      "         3           0.9386            9.96s\n",
      "         4           0.8844            9.84s\n"
     ]
    },
    {
     "name": "stderr",
     "output_type": "stream",
     "text": [
      "C:\\ProgramData\\Anaconda3\\lib\\site-packages\\sklearn\\ensemble\\_gb.py:1454: DataConversionWarning: A column-vector y was passed when a 1d array was expected. Please change the shape of y to (n_samples, ), for example using ravel().\n",
      "  y = column_or_1d(y, warn=True)\n"
     ]
    },
    {
     "name": "stdout",
     "output_type": "stream",
     "text": [
      "         5           0.8381           10.09s\n",
      "         6           0.7995           10.37s\n",
      "         7           0.7559           10.66s\n",
      "         8           0.7205           10.50s\n",
      "         9           0.6958           10.44s\n",
      "        10           0.6725           10.68s\n",
      "        20           0.4672           10.18s\n",
      "        30           0.3179           10.46s\n",
      "        40           0.2274           10.16s\n",
      "        50           0.1774            9.48s\n",
      "        60           0.1394            8.84s\n",
      "        70           0.1050            8.40s\n",
      "        80           0.0805            7.78s\n",
      "        90           0.0650            7.21s\n",
      "       100           0.0511            6.64s\n",
      "       200           0.0058            2.19s\n",
      "Learning_rate: 0.5\n",
      "      Iter       Train Loss   Remaining Time \n",
      "         1           1.2095            9.69s\n",
      "         2           1.1006            9.41s\n",
      "         3           1.0240            9.21s\n",
      "         4           0.9729            9.03s\n",
      "         5           0.9387            8.96s\n"
     ]
    },
    {
     "name": "stderr",
     "output_type": "stream",
     "text": [
      "C:\\ProgramData\\Anaconda3\\lib\\site-packages\\sklearn\\ensemble\\_gb.py:1454: DataConversionWarning: A column-vector y was passed when a 1d array was expected. Please change the shape of y to (n_samples, ), for example using ravel().\n",
      "  y = column_or_1d(y, warn=True)\n"
     ]
    },
    {
     "name": "stdout",
     "output_type": "stream",
     "text": [
      "         6           0.8948            9.33s\n",
      "         7           0.8621            9.27s\n",
      "         8           0.8360            9.19s\n",
      "         9           0.8171            9.16s\n",
      "        10           0.7883            9.07s\n",
      "        20           0.6029            8.63s\n",
      "        30           0.4760            8.25s\n",
      "        40           0.3879            8.30s\n",
      "        50           0.3325            8.07s\n",
      "        60           0.2759            7.82s\n",
      "        70           0.2304            8.01s\n",
      "        80           0.1969            7.74s\n",
      "        90           0.1718            7.47s\n",
      "       100           0.1404            7.07s\n",
      "       200           0.0358            2.29s\n",
      "Learning_rate: 0.3\n",
      "      Iter       Train Loss   Remaining Time \n",
      "         1           1.2613           11.59s\n",
      "         2           1.1715           11.47s\n",
      "         3           1.1009           11.49s\n",
      "         4           1.0529           10.98s\n"
     ]
    },
    {
     "name": "stderr",
     "output_type": "stream",
     "text": [
      "C:\\ProgramData\\Anaconda3\\lib\\site-packages\\sklearn\\ensemble\\_gb.py:1454: DataConversionWarning: A column-vector y was passed when a 1d array was expected. Please change the shape of y to (n_samples, ), for example using ravel().\n",
      "  y = column_or_1d(y, warn=True)\n"
     ]
    },
    {
     "name": "stdout",
     "output_type": "stream",
     "text": [
      "         5           1.0130           11.20s\n",
      "         6           0.9740           10.96s\n",
      "         7           0.9475           10.91s\n",
      "         8           0.9197           10.75s\n",
      "         9           0.8979           10.67s\n",
      "        10           0.8730           10.55s\n",
      "        20           0.7207           10.56s\n",
      "        30           0.6055           10.94s\n",
      "        40           0.5244           10.14s\n",
      "        50           0.4501            9.49s\n",
      "        60           0.3908            8.93s\n",
      "        70           0.3372            8.36s\n",
      "        80           0.3009            7.84s\n",
      "        90           0.2603            7.41s\n",
      "       100           0.2327            6.91s\n",
      "       200           0.0835            2.19s\n",
      "Learning_rate: 0.2\n",
      "      Iter       Train Loss   Remaining Time \n",
      "         1           1.3199            8.96s\n",
      "         2           1.2645            9.05s\n",
      "         3           1.2170            9.06s\n",
      "         4           1.1775            8.98s\n",
      "         5           1.1404            8.92s\n"
     ]
    },
    {
     "name": "stderr",
     "output_type": "stream",
     "text": [
      "C:\\ProgramData\\Anaconda3\\lib\\site-packages\\sklearn\\ensemble\\_gb.py:1454: DataConversionWarning: A column-vector y was passed when a 1d array was expected. Please change the shape of y to (n_samples, ), for example using ravel().\n",
      "  y = column_or_1d(y, warn=True)\n"
     ]
    },
    {
     "name": "stdout",
     "output_type": "stream",
     "text": [
      "         6           1.1106            9.27s\n",
      "         7           1.0844            9.27s\n",
      "         8           1.0617            9.23s\n",
      "         9           1.0411            9.16s\n",
      "        10           1.0223            9.10s\n",
      "        20           0.8864            8.63s\n",
      "        30           0.7844            8.29s\n",
      "        40           0.7176            7.97s\n",
      "        50           0.6590            7.71s\n",
      "        60           0.6120            7.34s\n",
      "        70           0.5599            6.99s\n",
      "        80           0.5242            6.61s\n",
      "        90           0.4829            6.19s\n",
      "       100           0.4473            5.77s\n",
      "       200           0.2379            1.92s\n",
      "Learning_rate: 0.1\n"
     ]
    },
    {
     "data": {
      "image/png": "[encoded data removed]",
      "text/plain": [
       "<Figure size 432x288 with 1 Axes>"
      ]
     },
     "metadata": {
      "needs_background": "light"
     },
     "output_type": "display_data"
    },
    {
     "data": {
      "image/png": "[encoded data removed]",
      "text/plain": [
       "<Figure size 432x288 with 1 Axes>"
      ]
     },
     "metadata": {
      "needs_background": "light"
     },
     "output_type": "display_data"
    },
    {
     "data": {
      "image/png": "[encoded data removed]",
      "text/plain": [
       "<Figure size 432x288 with 1 Axes>"
      ]
     },
     "metadata": {
      "needs_background": "light"
     },
     "output_type": "display_data"
    },
    {
     "data": {
      "image/png": "[encoded data removed]",
      "text/plain": [
       "<Figure size 432x288 with 1 Axes>"
      ]
     },
     "metadata": {
      "needs_background": "light"
     },
     "output_type": "display_data"
    },
    {
     "data": {
      "image/png": "[encoded data removed]",
      "text/plain": [
       "<Figure size 432x288 with 1 Axes>"
      ]
     },
     "metadata": {
      "needs_background": "light"
     },
     "output_type": "display_data"
    }
   ],
   "source": [
    "for lr in [1, 0.5, 0.3, 0.2, 0.1]:\n",
    "    test_loss = []\n",
    "    train_loss = []\n",
    "\n",
    "    gbclf = GradientBoostingClassifier(n_estimators=250, learning_rate=lr, verbose=True, random_state=241)\n",
    "    gbclf.fit(X_train, y_train)\n",
    "    for i, y_pred in enumerate(gbclf.staged_predict_proba(X_test)):\n",
    "        #y_pred = 1.0000 / (1.0000 + np.exp(-y_pred))\n",
    "        test_loss.append(log_loss(y_test, y_pred))\n",
    "        \n",
    "    for i, y_pred in enumerate(gbclf.staged_predict_proba(X_train)):\n",
    "        #y_pred = 1.0000 / (1.0000 + np.exp(-y_pred))\n",
    "        train_loss.append(log_loss(y_train, y_pred))\n",
    "    \n",
    "    print(f'Learning_rate: {lr}')\n",
    "    plt.figure()\n",
    "    plt.plot(test_loss, 'r', linewidth=2)\n",
    "    plt.plot(train_loss, 'g', linewidth=2)\n",
    "    plt.legend(['test', 'train'])"
   ]
  },
  {
   "cell_type": "markdown",
   "metadata": {},
   "source": [
    "3. Как можно охарактеризовать график качества на тестовой выборке, начиная с некоторой итерации: переобучение (overfitting) или недообучение (underfitting)? В ответе укажите одно из слов overfitting либо underfitting."
   ]
  },
  {
   "cell_type": "markdown",
   "metadata": {},
   "source": [
    "По графику можно видеть, что хотя на обучающей выборке качество возрастает, на тестовой выборке после примерно 50 итерации качество начинает убывать."
   ]
  },
  {
   "cell_type": "markdown",
   "metadata": {},
   "source": [
    "4. Приведите минимальное значение log-loss на тестовой выборке и номер итерации, на котором оно достигается, при learning_rate = 0.2."
   ]
  },
  {
   "cell_type": "code",
   "execution_count": 7,
   "metadata": {},
   "outputs": [
    {
     "name": "stderr",
     "output_type": "stream",
     "text": [
      "C:\\ProgramData\\Anaconda3\\lib\\site-packages\\sklearn\\ensemble\\_gb.py:1454: DataConversionWarning: A column-vector y was passed when a 1d array was expected. Please change the shape of y to (n_samples, ), for example using ravel().\n",
      "  y = column_or_1d(y, warn=True)\n"
     ]
    },
    {
     "name": "stdout",
     "output_type": "stream",
     "text": [
      "      Iter       Train Loss   Remaining Time \n",
      "         1           1.2613           12.95s\n",
      "         2           1.1715           12.40s\n",
      "         3           1.1009           11.77s\n",
      "         4           1.0529           11.44s\n",
      "         5           1.0130           11.37s\n",
      "         6           0.9740           11.10s\n",
      "         7           0.9475           10.97s\n",
      "         8           0.9197           10.80s\n",
      "         9           0.8979           10.82s\n",
      "        10           0.8730           10.80s\n",
      "        20           0.7207           10.42s\n",
      "        30           0.6055            9.83s\n",
      "        40           0.5244            9.15s\n",
      "        50           0.4501            8.63s\n",
      "        60           0.3908            8.20s\n",
      "        70           0.3372            7.81s\n",
      "        80           0.3009            7.38s\n",
      "        90           0.2603            6.95s\n",
      "       100           0.2327            6.51s\n",
      "       200           0.0835            2.05s\n",
      "Min log-loss: 0.5301645204906471\n",
      "Index of min log-loss: 36\n"
     ]
    },
    {
     "data": {
      "image/png": "[encoded data removed]",
      "text/plain": [
       "<Figure size 432x288 with 1 Axes>"
      ]
     },
     "metadata": {
      "needs_background": "light"
     },
     "output_type": "display_data"
    }
   ],
   "source": [
    "test_loss = []\n",
    "train_loss = []\n",
    "\n",
    "gbclf = GradientBoostingClassifier(n_estimators=250, learning_rate=0.2, verbose=True, random_state=241)\n",
    "gbclf.fit(X_train, y_train)\n",
    "for i, y_pred in enumerate(gbclf.staged_predict_proba(X_test)):\n",
    "    #y_pred = 1.0000 / (1.0000 + np.exp(-y_pred))\n",
    "    test_loss.append(log_loss(y_test, y_pred))\n",
    "    \n",
    "        \n",
    "for i, y_pred in enumerate(gbclf.staged_predict_proba(X_train)):\n",
    "    #y_pred = 1.0000 / (1.0000 + np.exp(-y_pred))\n",
    "    train_loss.append(log_loss(y_train, y_pred))\n",
    "    \n",
    "plt.figure()\n",
    "plt.plot(test_loss, 'r', linewidth=2)\n",
    "plt.plot(train_loss, 'g', linewidth=2)\n",
    "plt.legend(['test', 'train'])\n",
    "\n",
    "print(f'Min log-loss: {min(test_loss)}')\n",
    "print(f'Index of min log-loss: {test_loss.index(min(test_loss))}')"
   ]
  },
  {
   "cell_type": "markdown",
   "metadata": {},
   "source": [
    "5. На этих же данных обучите RandomForestClassifier с количеством деревьев, равным количеству итераций, на котором достигается наилучшее качество у градиентного бустинга из предыдущего пункта, c random_state=241 и остальными параметрами по умолчанию. Какое значение log-loss на тесте получается у этого случайного леса? (Не забывайте, что предсказания нужно получать с помощью функции predict_proba. В данном случае брать сигмоиду от оценки вероятности класса не нужно)\n",
    "\n",
    "Если ответом является нецелое число, то целую и дробную часть необходимо разграничивать точкой, например, 0.42. При необходимости округляйте дробную часть до двух знаков.\n",
    "\n",
    "Обратите внимание, что, хотя в градиентного бустинге гораздо более слабые базовые алгоритмы, он выигрывает у случайного леса благодаря более \"направленной\" настройке — каждый следующий алгоритм исправляет ошибки имеющейся композиции. Также он обучается быстрее случайного леса благодаря использованию неглубоких деревьев. В то же время, случайный лес может показать более высокое качество при неограниченных ресурсах — так, он выиграет у градиентного бустинга на наших данных, если увеличить число деревьев до нескольких сотен (проверьте сами!)."
   ]
  },
  {
   "cell_type": "code",
   "execution_count": 8,
   "metadata": {},
   "outputs": [],
   "source": [
    "from sklearn.ensemble import RandomForestClassifier"
   ]
  },
  {
   "cell_type": "code",
   "execution_count": 9,
   "metadata": {},
   "outputs": [],
   "source": [
    "rfclf = RandomForestClassifier(n_estimators=36, random_state=241)"
   ]
  },
  {
   "cell_type": "code",
   "execution_count": 10,
   "metadata": {},
   "outputs": [
    {
     "name": "stderr",
     "output_type": "stream",
     "text": [
      "C:\\ProgramData\\Anaconda3\\lib\\site-packages\\ipykernel_launcher.py:1: DataConversionWarning: A column-vector y was passed when a 1d array was expected. Please change the shape of y to (n_samples,), for example using ravel().\n",
      "  \"\"\"Entry point for launching an IPython kernel.\n"
     ]
    },
    {
     "data": {
      "text/plain": [
       "RandomForestClassifier(bootstrap=True, ccp_alpha=0.0, class_weight=None,\n",
       "                       criterion='gini', max_depth=None, max_features='auto',\n",
       "                       max_leaf_nodes=None, max_samples=None,\n",
       "                       min_impurity_decrease=0.0, min_impurity_split=None,\n",
       "                       min_samples_leaf=1, min_samples_split=2,\n",
       "                       min_weight_fraction_leaf=0.0, n_estimators=36,\n",
       "                       n_jobs=None, oob_score=False, random_state=241,\n",
       "                       verbose=0, warm_start=False)"
      ]
     },
     "execution_count": 10,
     "metadata": {},
     "output_type": "execute_result"
    }
   ],
   "source": [
    "rfclf.fit(X_train, y_train)"
   ]
  },
  {
   "cell_type": "code",
   "execution_count": 11,
   "metadata": {},
   "outputs": [
    {
     "data": {
      "text/plain": [
       "0.5415685811957381"
      ]
     },
     "execution_count": 11,
     "metadata": {},
     "output_type": "execute_result"
    }
   ],
   "source": [
    "log_loss( y_test, rfclf.predict_proba(X_test))"
   ]
  },
  {
   "cell_type": "code",
   "execution_count": 15,
   "metadata": {},
   "outputs": [
    {
     "name": "stderr",
     "output_type": "stream",
     "text": [
      "C:\\ProgramData\\Anaconda3\\lib\\site-packages\\ipykernel_launcher.py:2: DataConversionWarning: A column-vector y was passed when a 1d array was expected. Please change the shape of y to (n_samples,), for example using ravel().\n",
      "  \n"
     ]
    },
    {
     "data": {
      "text/plain": [
       "0.524537833331343"
      ]
     },
     "execution_count": 15,
     "metadata": {},
     "output_type": "execute_result"
    }
   ],
   "source": [
    "rfclf_new = RandomForestClassifier(n_estimators=300, random_state=241)\n",
    "rfclf_new.fit(X_train, y_train)\n",
    "log_loss( y_test, rfclf_new.predict_proba(X_test))"
   ]
  },
  {
   "cell_type": "code",
   "execution_count": null,
   "metadata": {},
   "outputs": [],
   "source": []
  }
 ],
 "metadata": {
  "kernelspec": {
   "display_name": "Python 3",
   "language": "python",
   "name": "python3"
  },
  "language_info": {
   "codemirror_mode": {
    "name": "ipython",
    "version": 3
   },
   "file_extension": ".py",
   "mimetype": "text/x-python",
   "name": "python",
   "nbconvert_exporter": "python",
   "pygments_lexer": "ipython3",
   "version": "3.7.6"
  }
 },
 "nbformat": 4,
 "nbformat_minor": 4
}
