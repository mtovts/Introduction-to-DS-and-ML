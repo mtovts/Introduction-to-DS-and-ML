{
 "cells": [
  {
   "cell_type": "code",
   "execution_count": 1,
   "metadata": {},
   "outputs": [],
   "source": [
    "import numpy as np\n",
    "import pandas as pd\n",
    "from sklearn.neighbors import KNeighborsClassifier\n",
    "from sklearn.model_selection import GridSearchCV \n",
    "from sklearn.model_selection import KFold\n",
    "from sklearn.preprocessing import scale"
   ]
  },
  {
   "cell_type": "markdown",
   "metadata": {},
   "source": [
    "# Нужно подобрать оптимальное значение k для алгоритма kNN.\n",
    "\n",
    "Будем использовать набор данных Wine, где требуется\n",
    "предсказать сорт винограда, из которого изготовлено вино, используя\n",
    "результаты химических анализов.\n",
    "Выполните следующие шаги:\n",
    "    \n",
    "1. Загрузите выборку Wine по адресу https://archive.ics.uci.edu/ml/machinelearning-databases/wine/wine.data\n",
    "2. Извлеките из данных признаки и классы. Класс записан в первом\n",
    "столбце (три варианта), признаки — в столбцах со второго по последний. Более подробно о сути признаков можно прочитать по адресу https://archive.ics.uci.edu/ml/datasets/Wine (см. также файл\n",
    "wine.names, приложенный к заданию)\n"
   ]
  },
  {
   "cell_type": "code",
   "execution_count": 2,
   "metadata": {},
   "outputs": [
    {
     "data": {
      "text/html": [
       "<div>\n",
       "<style scoped>\n",
       "    .dataframe tbody tr th:only-of-type {\n",
       "        vertical-align: middle;\n",
       "    }\n",
       "\n",
       "    .dataframe tbody tr th {\n",
       "        vertical-align: top;\n",
       "    }\n",
       "\n",
       "    .dataframe thead th {\n",
       "        text-align: right;\n",
       "    }\n",
       "</style>\n",
       "<table border=\"1\" class=\"dataframe\">\n",
       "  <thead>\n",
       "    <tr style=\"text-align: right;\">\n",
       "      <th></th>\n",
       "      <th>14.23</th>\n",
       "      <th>1.71</th>\n",
       "      <th>2.43</th>\n",
       "      <th>15.6</th>\n",
       "      <th>127</th>\n",
       "      <th>2.8</th>\n",
       "      <th>3.06</th>\n",
       "      <th>.28</th>\n",
       "      <th>2.29</th>\n",
       "      <th>5.64</th>\n",
       "      <th>1.04</th>\n",
       "      <th>3.92</th>\n",
       "      <th>1065</th>\n",
       "    </tr>\n",
       "  </thead>\n",
       "  <tbody>\n",
       "    <tr>\n",
       "      <th>0</th>\n",
       "      <td>13.20</td>\n",
       "      <td>1.78</td>\n",
       "      <td>2.14</td>\n",
       "      <td>11.2</td>\n",
       "      <td>100</td>\n",
       "      <td>2.65</td>\n",
       "      <td>2.76</td>\n",
       "      <td>0.26</td>\n",
       "      <td>1.28</td>\n",
       "      <td>4.38</td>\n",
       "      <td>1.05</td>\n",
       "      <td>3.40</td>\n",
       "      <td>1050</td>\n",
       "    </tr>\n",
       "    <tr>\n",
       "      <th>1</th>\n",
       "      <td>13.16</td>\n",
       "      <td>2.36</td>\n",
       "      <td>2.67</td>\n",
       "      <td>18.6</td>\n",
       "      <td>101</td>\n",
       "      <td>2.80</td>\n",
       "      <td>3.24</td>\n",
       "      <td>0.30</td>\n",
       "      <td>2.81</td>\n",
       "      <td>5.68</td>\n",
       "      <td>1.03</td>\n",
       "      <td>3.17</td>\n",
       "      <td>1185</td>\n",
       "    </tr>\n",
       "    <tr>\n",
       "      <th>2</th>\n",
       "      <td>14.37</td>\n",
       "      <td>1.95</td>\n",
       "      <td>2.50</td>\n",
       "      <td>16.8</td>\n",
       "      <td>113</td>\n",
       "      <td>3.85</td>\n",
       "      <td>3.49</td>\n",
       "      <td>0.24</td>\n",
       "      <td>2.18</td>\n",
       "      <td>7.80</td>\n",
       "      <td>0.86</td>\n",
       "      <td>3.45</td>\n",
       "      <td>1480</td>\n",
       "    </tr>\n",
       "    <tr>\n",
       "      <th>3</th>\n",
       "      <td>13.24</td>\n",
       "      <td>2.59</td>\n",
       "      <td>2.87</td>\n",
       "      <td>21.0</td>\n",
       "      <td>118</td>\n",
       "      <td>2.80</td>\n",
       "      <td>2.69</td>\n",
       "      <td>0.39</td>\n",
       "      <td>1.82</td>\n",
       "      <td>4.32</td>\n",
       "      <td>1.04</td>\n",
       "      <td>2.93</td>\n",
       "      <td>735</td>\n",
       "    </tr>\n",
       "    <tr>\n",
       "      <th>4</th>\n",
       "      <td>14.20</td>\n",
       "      <td>1.76</td>\n",
       "      <td>2.45</td>\n",
       "      <td>15.2</td>\n",
       "      <td>112</td>\n",
       "      <td>3.27</td>\n",
       "      <td>3.39</td>\n",
       "      <td>0.34</td>\n",
       "      <td>1.97</td>\n",
       "      <td>6.75</td>\n",
       "      <td>1.05</td>\n",
       "      <td>2.85</td>\n",
       "      <td>1450</td>\n",
       "    </tr>\n",
       "    <tr>\n",
       "      <th>...</th>\n",
       "      <td>...</td>\n",
       "      <td>...</td>\n",
       "      <td>...</td>\n",
       "      <td>...</td>\n",
       "      <td>...</td>\n",
       "      <td>...</td>\n",
       "      <td>...</td>\n",
       "      <td>...</td>\n",
       "      <td>...</td>\n",
       "      <td>...</td>\n",
       "      <td>...</td>\n",
       "      <td>...</td>\n",
       "      <td>...</td>\n",
       "    </tr>\n",
       "    <tr>\n",
       "      <th>172</th>\n",
       "      <td>13.71</td>\n",
       "      <td>5.65</td>\n",
       "      <td>2.45</td>\n",
       "      <td>20.5</td>\n",
       "      <td>95</td>\n",
       "      <td>1.68</td>\n",
       "      <td>0.61</td>\n",
       "      <td>0.52</td>\n",
       "      <td>1.06</td>\n",
       "      <td>7.70</td>\n",
       "      <td>0.64</td>\n",
       "      <td>1.74</td>\n",
       "      <td>740</td>\n",
       "    </tr>\n",
       "    <tr>\n",
       "      <th>173</th>\n",
       "      <td>13.40</td>\n",
       "      <td>3.91</td>\n",
       "      <td>2.48</td>\n",
       "      <td>23.0</td>\n",
       "      <td>102</td>\n",
       "      <td>1.80</td>\n",
       "      <td>0.75</td>\n",
       "      <td>0.43</td>\n",
       "      <td>1.41</td>\n",
       "      <td>7.30</td>\n",
       "      <td>0.70</td>\n",
       "      <td>1.56</td>\n",
       "      <td>750</td>\n",
       "    </tr>\n",
       "    <tr>\n",
       "      <th>174</th>\n",
       "      <td>13.27</td>\n",
       "      <td>4.28</td>\n",
       "      <td>2.26</td>\n",
       "      <td>20.0</td>\n",
       "      <td>120</td>\n",
       "      <td>1.59</td>\n",
       "      <td>0.69</td>\n",
       "      <td>0.43</td>\n",
       "      <td>1.35</td>\n",
       "      <td>10.20</td>\n",
       "      <td>0.59</td>\n",
       "      <td>1.56</td>\n",
       "      <td>835</td>\n",
       "    </tr>\n",
       "    <tr>\n",
       "      <th>175</th>\n",
       "      <td>13.17</td>\n",
       "      <td>2.59</td>\n",
       "      <td>2.37</td>\n",
       "      <td>20.0</td>\n",
       "      <td>120</td>\n",
       "      <td>1.65</td>\n",
       "      <td>0.68</td>\n",
       "      <td>0.53</td>\n",
       "      <td>1.46</td>\n",
       "      <td>9.30</td>\n",
       "      <td>0.60</td>\n",
       "      <td>1.62</td>\n",
       "      <td>840</td>\n",
       "    </tr>\n",
       "    <tr>\n",
       "      <th>176</th>\n",
       "      <td>14.13</td>\n",
       "      <td>4.10</td>\n",
       "      <td>2.74</td>\n",
       "      <td>24.5</td>\n",
       "      <td>96</td>\n",
       "      <td>2.05</td>\n",
       "      <td>0.76</td>\n",
       "      <td>0.56</td>\n",
       "      <td>1.35</td>\n",
       "      <td>9.20</td>\n",
       "      <td>0.61</td>\n",
       "      <td>1.60</td>\n",
       "      <td>560</td>\n",
       "    </tr>\n",
       "  </tbody>\n",
       "</table>\n",
       "<p>177 rows × 13 columns</p>\n",
       "</div>"
      ],
      "text/plain": [
       "     14.23  1.71  2.43  15.6  127   2.8  3.06   .28  2.29   5.64  1.04  3.92  \\\n",
       "0    13.20  1.78  2.14  11.2  100  2.65  2.76  0.26  1.28   4.38  1.05  3.40   \n",
       "1    13.16  2.36  2.67  18.6  101  2.80  3.24  0.30  2.81   5.68  1.03  3.17   \n",
       "2    14.37  1.95  2.50  16.8  113  3.85  3.49  0.24  2.18   7.80  0.86  3.45   \n",
       "3    13.24  2.59  2.87  21.0  118  2.80  2.69  0.39  1.82   4.32  1.04  2.93   \n",
       "4    14.20  1.76  2.45  15.2  112  3.27  3.39  0.34  1.97   6.75  1.05  2.85   \n",
       "..     ...   ...   ...   ...  ...   ...   ...   ...   ...    ...   ...   ...   \n",
       "172  13.71  5.65  2.45  20.5   95  1.68  0.61  0.52  1.06   7.70  0.64  1.74   \n",
       "173  13.40  3.91  2.48  23.0  102  1.80  0.75  0.43  1.41   7.30  0.70  1.56   \n",
       "174  13.27  4.28  2.26  20.0  120  1.59  0.69  0.43  1.35  10.20  0.59  1.56   \n",
       "175  13.17  2.59  2.37  20.0  120  1.65  0.68  0.53  1.46   9.30  0.60  1.62   \n",
       "176  14.13  4.10  2.74  24.5   96  2.05  0.76  0.56  1.35   9.20  0.61  1.60   \n",
       "\n",
       "     1065  \n",
       "0    1050  \n",
       "1    1185  \n",
       "2    1480  \n",
       "3     735  \n",
       "4    1450  \n",
       "..    ...  \n",
       "172   740  \n",
       "173   750  \n",
       "174   835  \n",
       "175   840  \n",
       "176   560  \n",
       "\n",
       "[177 rows x 13 columns]"
      ]
     },
     "execution_count": 2,
     "metadata": {},
     "output_type": "execute_result"
    }
   ],
   "source": [
    "wine_features = pd.read_csv('wine.data')\n",
    "\n",
    "wine_class = wine_features.pop('1')\n",
    "wine_class\n",
    "\n",
    "wine_features"
   ]
  },
  {
   "cell_type": "markdown",
   "metadata": {},
   "source": [
    "3. Оценку качества необходимо провести методом кросс-валидации по\n",
    "5 блокам (5-fold). Создайте генератор разбиений, который перемешивает выборку перед формированием блоков (shuffle=True). Для\n",
    "воспроизводимости результата, создавайте генератор KFold с фиксированным параметром random_state=42. В качестве меры качества используйте долю верных ответов (accuracy).\n",
    "\n",
    "4. Найдите точность классификации на кросс-валидации для метода\n",
    "k ближайших соседей (sklearn.neighbors.KNeighborsClassifier), при\n",
    "k от 1 до 50. При каком k получилось оптимальное качество? Чему\n",
    "оно равно (число в интервале от 0 до 1)? Данные результаты и\n",
    "будут ответами на вопросы 1 и 2.\n"
   ]
  },
  {
   "cell_type": "code",
   "execution_count": 3,
   "metadata": {},
   "outputs": [],
   "source": [
    "clf_knn = KNeighborsClassifier()"
   ]
  },
  {
   "cell_type": "code",
   "execution_count": 4,
   "metadata": {},
   "outputs": [],
   "source": [
    "search = GridSearchCV(clf_knn, {'n_neighbors': range(1, 51)}, cv=KFold(n_splits=5, shuffle=True, random_state=42))"
   ]
  },
  {
   "cell_type": "code",
   "execution_count": 5,
   "metadata": {},
   "outputs": [
    {
     "data": {
      "text/plain": [
       "GridSearchCV(cv=KFold(n_splits=5, random_state=42, shuffle=True),\n",
       "             error_score=nan,\n",
       "             estimator=KNeighborsClassifier(algorithm='auto', leaf_size=30,\n",
       "                                            metric='minkowski',\n",
       "                                            metric_params=None, n_jobs=None,\n",
       "                                            n_neighbors=5, p=2,\n",
       "                                            weights='uniform'),\n",
       "             iid='deprecated', n_jobs=None,\n",
       "             param_grid={'n_neighbors': range(1, 51)}, pre_dispatch='2*n_jobs',\n",
       "             refit=True, return_train_score=False, scoring=None, verbose=0)"
      ]
     },
     "execution_count": 5,
     "metadata": {},
     "output_type": "execute_result"
    }
   ],
   "source": [
    "search.fit(wine_features, wine_class)"
   ]
  },
  {
   "cell_type": "code",
   "execution_count": 6,
   "metadata": {},
   "outputs": [
    {
     "data": {
      "text/plain": [
       "{'n_neighbors': 1}"
      ]
     },
     "execution_count": 6,
     "metadata": {},
     "output_type": "execute_result"
    }
   ],
   "source": [
    "search.best_params_ # Верно, и это скорее всего означает что метод плохо работает на имеющихся признаках."
   ]
  },
  {
   "cell_type": "code",
   "execution_count": 7,
   "metadata": {},
   "outputs": [
    {
     "data": {
      "text/plain": [
       "0.7352380952380952"
      ]
     },
     "execution_count": 7,
     "metadata": {},
     "output_type": "execute_result"
    }
   ],
   "source": [
    "search.best_score_ \n",
    "# Метод угадывает правильный ответ в более чем половине случаев. Можно ли получить большее качество за счет \n",
    "# приведения признаков к одному масштабу?"
   ]
  },
  {
   "cell_type": "markdown",
   "metadata": {},
   "source": [
    "5. Произведите масштабирование признаков с помощью функции\n",
    "sklearn.preprocessing.scale. Снова найдите оптимальное k на кроссвалидации.\n",
    "6. Какое значение k получилось оптимальным после приведения признаков к одному масштабу? Как изменилось значение качества?\n",
    "Приведите ответы на вопросы 3 и 4.\n",
    "\n",
    "Приведение признаков к одному масштабу можно делать с помощью функции sklearn.preprocessing.scale, которой на вход необходимо подать матрицу признаков и получить масштабированную матрицу, в которой каждый столбец имеет нулевое среднее значение и единичное стандартное отклонение."
   ]
  },
  {
   "cell_type": "code",
   "execution_count": 8,
   "metadata": {},
   "outputs": [
    {
     "data": {
      "text/html": [
       "<div>\n",
       "<style scoped>\n",
       "    .dataframe tbody tr th:only-of-type {\n",
       "        vertical-align: middle;\n",
       "    }\n",
       "\n",
       "    .dataframe tbody tr th {\n",
       "        vertical-align: top;\n",
       "    }\n",
       "\n",
       "    .dataframe thead th {\n",
       "        text-align: right;\n",
       "    }\n",
       "</style>\n",
       "<table border=\"1\" class=\"dataframe\">\n",
       "  <thead>\n",
       "    <tr style=\"text-align: right;\">\n",
       "      <th></th>\n",
       "      <th>0</th>\n",
       "      <th>1</th>\n",
       "      <th>2</th>\n",
       "      <th>3</th>\n",
       "      <th>4</th>\n",
       "      <th>5</th>\n",
       "      <th>6</th>\n",
       "      <th>7</th>\n",
       "      <th>8</th>\n",
       "      <th>9</th>\n",
       "      <th>10</th>\n",
       "      <th>11</th>\n",
       "      <th>12</th>\n",
       "    </tr>\n",
       "  </thead>\n",
       "  <tbody>\n",
       "    <tr>\n",
       "      <th>0</th>\n",
       "      <td>0.255824</td>\n",
       "      <td>-0.501624</td>\n",
       "      <td>-0.824485</td>\n",
       "      <td>-2.500110</td>\n",
       "      <td>0.029180</td>\n",
       "      <td>0.572666</td>\n",
       "      <td>0.739636</td>\n",
       "      <td>-0.823139</td>\n",
       "      <td>-0.538575</td>\n",
       "      <td>-0.291130</td>\n",
       "      <td>0.407100</td>\n",
       "      <td>1.131698</td>\n",
       "      <td>0.971052</td>\n",
       "    </tr>\n",
       "    <tr>\n",
       "      <th>1</th>\n",
       "      <td>0.206229</td>\n",
       "      <td>0.018020</td>\n",
       "      <td>1.107690</td>\n",
       "      <td>-0.275639</td>\n",
       "      <td>0.099932</td>\n",
       "      <td>0.812784</td>\n",
       "      <td>1.221645</td>\n",
       "      <td>-0.501337</td>\n",
       "      <td>2.145975</td>\n",
       "      <td>0.269729</td>\n",
       "      <td>0.319567</td>\n",
       "      <td>0.804579</td>\n",
       "      <td>1.400998</td>\n",
       "    </tr>\n",
       "    <tr>\n",
       "      <th>2</th>\n",
       "      <td>1.706501</td>\n",
       "      <td>-0.349315</td>\n",
       "      <td>0.487935</td>\n",
       "      <td>-0.816726</td>\n",
       "      <td>0.948953</td>\n",
       "      <td>2.493609</td>\n",
       "      <td>1.472691</td>\n",
       "      <td>-0.984039</td>\n",
       "      <td>1.040572</td>\n",
       "      <td>1.184362</td>\n",
       "      <td>-0.424458</td>\n",
       "      <td>1.202811</td>\n",
       "      <td>2.340509</td>\n",
       "    </tr>\n",
       "    <tr>\n",
       "      <th>3</th>\n",
       "      <td>0.305420</td>\n",
       "      <td>0.224086</td>\n",
       "      <td>1.836812</td>\n",
       "      <td>0.445811</td>\n",
       "      <td>1.302712</td>\n",
       "      <td>0.812784</td>\n",
       "      <td>0.669343</td>\n",
       "      <td>0.222716</td>\n",
       "      <td>0.408913</td>\n",
       "      <td>-0.317016</td>\n",
       "      <td>0.363334</td>\n",
       "      <td>0.463238</td>\n",
       "      <td>-0.032154</td>\n",
       "    </tr>\n",
       "    <tr>\n",
       "      <th>4</th>\n",
       "      <td>1.495719</td>\n",
       "      <td>-0.519543</td>\n",
       "      <td>0.305655</td>\n",
       "      <td>-1.297693</td>\n",
       "      <td>0.878201</td>\n",
       "      <td>1.565153</td>\n",
       "      <td>1.372273</td>\n",
       "      <td>-0.179536</td>\n",
       "      <td>0.672104</td>\n",
       "      <td>0.731360</td>\n",
       "      <td>0.407100</td>\n",
       "      <td>0.349457</td>\n",
       "      <td>2.244965</td>\n",
       "    </tr>\n",
       "    <tr>\n",
       "      <th>...</th>\n",
       "      <td>...</td>\n",
       "      <td>...</td>\n",
       "      <td>...</td>\n",
       "      <td>...</td>\n",
       "      <td>...</td>\n",
       "      <td>...</td>\n",
       "      <td>...</td>\n",
       "      <td>...</td>\n",
       "      <td>...</td>\n",
       "      <td>...</td>\n",
       "      <td>...</td>\n",
       "      <td>...</td>\n",
       "      <td>...</td>\n",
       "    </tr>\n",
       "    <tr>\n",
       "      <th>172</th>\n",
       "      <td>0.888171</td>\n",
       "      <td>2.965658</td>\n",
       "      <td>0.305655</td>\n",
       "      <td>0.295509</td>\n",
       "      <td>-0.324579</td>\n",
       "      <td>-0.980097</td>\n",
       "      <td>-1.419361</td>\n",
       "      <td>1.268570</td>\n",
       "      <td>-0.924589</td>\n",
       "      <td>1.141219</td>\n",
       "      <td>-1.387314</td>\n",
       "      <td>-1.229247</td>\n",
       "      <td>-0.016230</td>\n",
       "    </tr>\n",
       "    <tr>\n",
       "      <th>173</th>\n",
       "      <td>0.503803</td>\n",
       "      <td>1.406725</td>\n",
       "      <td>0.415023</td>\n",
       "      <td>1.047020</td>\n",
       "      <td>0.170684</td>\n",
       "      <td>-0.788003</td>\n",
       "      <td>-1.278776</td>\n",
       "      <td>0.544517</td>\n",
       "      <td>-0.310476</td>\n",
       "      <td>0.968647</td>\n",
       "      <td>-1.124717</td>\n",
       "      <td>-1.485253</td>\n",
       "      <td>0.015618</td>\n",
       "    </tr>\n",
       "    <tr>\n",
       "      <th>174</th>\n",
       "      <td>0.342617</td>\n",
       "      <td>1.738222</td>\n",
       "      <td>-0.387012</td>\n",
       "      <td>0.145207</td>\n",
       "      <td>1.444215</td>\n",
       "      <td>-1.124168</td>\n",
       "      <td>-1.339027</td>\n",
       "      <td>0.544517</td>\n",
       "      <td>-0.415753</td>\n",
       "      <td>2.219795</td>\n",
       "      <td>-1.606145</td>\n",
       "      <td>-1.485253</td>\n",
       "      <td>0.286324</td>\n",
       "    </tr>\n",
       "    <tr>\n",
       "      <th>175</th>\n",
       "      <td>0.218628</td>\n",
       "      <td>0.224086</td>\n",
       "      <td>0.014006</td>\n",
       "      <td>0.145207</td>\n",
       "      <td>1.444215</td>\n",
       "      <td>-1.028121</td>\n",
       "      <td>-1.349068</td>\n",
       "      <td>1.349020</td>\n",
       "      <td>-0.222746</td>\n",
       "      <td>1.831507</td>\n",
       "      <td>-1.562379</td>\n",
       "      <td>-1.399918</td>\n",
       "      <td>0.302248</td>\n",
       "    </tr>\n",
       "    <tr>\n",
       "      <th>176</th>\n",
       "      <td>1.408926</td>\n",
       "      <td>1.576953</td>\n",
       "      <td>1.362883</td>\n",
       "      <td>1.497926</td>\n",
       "      <td>-0.253827</td>\n",
       "      <td>-0.387806</td>\n",
       "      <td>-1.268734</td>\n",
       "      <td>1.590371</td>\n",
       "      <td>-0.415753</td>\n",
       "      <td>1.788364</td>\n",
       "      <td>-1.518613</td>\n",
       "      <td>-1.428363</td>\n",
       "      <td>-0.589490</td>\n",
       "    </tr>\n",
       "  </tbody>\n",
       "</table>\n",
       "<p>177 rows × 13 columns</p>\n",
       "</div>"
      ],
      "text/plain": [
       "            0         1         2         3         4         5         6  \\\n",
       "0    0.255824 -0.501624 -0.824485 -2.500110  0.029180  0.572666  0.739636   \n",
       "1    0.206229  0.018020  1.107690 -0.275639  0.099932  0.812784  1.221645   \n",
       "2    1.706501 -0.349315  0.487935 -0.816726  0.948953  2.493609  1.472691   \n",
       "3    0.305420  0.224086  1.836812  0.445811  1.302712  0.812784  0.669343   \n",
       "4    1.495719 -0.519543  0.305655 -1.297693  0.878201  1.565153  1.372273   \n",
       "..        ...       ...       ...       ...       ...       ...       ...   \n",
       "172  0.888171  2.965658  0.305655  0.295509 -0.324579 -0.980097 -1.419361   \n",
       "173  0.503803  1.406725  0.415023  1.047020  0.170684 -0.788003 -1.278776   \n",
       "174  0.342617  1.738222 -0.387012  0.145207  1.444215 -1.124168 -1.339027   \n",
       "175  0.218628  0.224086  0.014006  0.145207  1.444215 -1.028121 -1.349068   \n",
       "176  1.408926  1.576953  1.362883  1.497926 -0.253827 -0.387806 -1.268734   \n",
       "\n",
       "            7         8         9        10        11        12  \n",
       "0   -0.823139 -0.538575 -0.291130  0.407100  1.131698  0.971052  \n",
       "1   -0.501337  2.145975  0.269729  0.319567  0.804579  1.400998  \n",
       "2   -0.984039  1.040572  1.184362 -0.424458  1.202811  2.340509  \n",
       "3    0.222716  0.408913 -0.317016  0.363334  0.463238 -0.032154  \n",
       "4   -0.179536  0.672104  0.731360  0.407100  0.349457  2.244965  \n",
       "..        ...       ...       ...       ...       ...       ...  \n",
       "172  1.268570 -0.924589  1.141219 -1.387314 -1.229247 -0.016230  \n",
       "173  0.544517 -0.310476  0.968647 -1.124717 -1.485253  0.015618  \n",
       "174  0.544517 -0.415753  2.219795 -1.606145 -1.485253  0.286324  \n",
       "175  1.349020 -0.222746  1.831507 -1.562379 -1.399918  0.302248  \n",
       "176  1.590371 -0.415753  1.788364 -1.518613 -1.428363 -0.589490  \n",
       "\n",
       "[177 rows x 13 columns]"
      ]
     },
     "execution_count": 8,
     "metadata": {},
     "output_type": "execute_result"
    }
   ],
   "source": [
    "wine_features = pd.DataFrame(scale(wine_features))\n",
    "wine_features"
   ]
  },
  {
   "cell_type": "code",
   "execution_count": 9,
   "metadata": {},
   "outputs": [],
   "source": [
    "search = GridSearchCV(clf_knn, {'n_neighbors': range(1, 51)}, cv=KFold(n_splits=5, shuffle=True, random_state=42))"
   ]
  },
  {
   "cell_type": "code",
   "execution_count": 10,
   "metadata": {},
   "outputs": [
    {
     "data": {
      "text/plain": [
       "GridSearchCV(cv=KFold(n_splits=5, random_state=42, shuffle=True),\n",
       "             error_score=nan,\n",
       "             estimator=KNeighborsClassifier(algorithm='auto', leaf_size=30,\n",
       "                                            metric='minkowski',\n",
       "                                            metric_params=None, n_jobs=None,\n",
       "                                            n_neighbors=5, p=2,\n",
       "                                            weights='uniform'),\n",
       "             iid='deprecated', n_jobs=None,\n",
       "             param_grid={'n_neighbors': range(1, 51)}, pre_dispatch='2*n_jobs',\n",
       "             refit=True, return_train_score=False, scoring=None, verbose=0)"
      ]
     },
     "execution_count": 10,
     "metadata": {},
     "output_type": "execute_result"
    }
   ],
   "source": [
    "search.fit(wine_features, wine_class)"
   ]
  },
  {
   "cell_type": "code",
   "execution_count": 11,
   "metadata": {},
   "outputs": [
    {
     "data": {
      "text/plain": [
       "{'n_neighbors': 28}"
      ]
     },
     "execution_count": 11,
     "metadata": {},
     "output_type": "execute_result"
    }
   ],
   "source": [
    "search.best_params_ # Оптимальное качество достигается при k > 1. Это гораздо более логичный результат, чем до масштабирования."
   ]
  },
  {
   "cell_type": "code",
   "execution_count": 12,
   "metadata": {},
   "outputs": [
    {
     "data": {
      "text/plain": [
       "0.9830508474576272"
      ]
     },
     "execution_count": 12,
     "metadata": {},
     "output_type": "execute_result"
    }
   ],
   "source": [
    "search.score(wine_features, wine_class) \n",
    "# Согласитесь, результат существенно превосходит качество, полученное без масштабирования признаков."
   ]
  },
  {
   "cell_type": "markdown",
   "metadata": {},
   "source": [
    "# Следующая задача:\n",
    "Мы будем использовать в данном задании набор данных Boston, где нужно предсказать стоимость жилья на основе различных характеристик расположения (загрязненность воздуха, близость к дорогам и т.д.). Подробнее о признаках можно почитать по адресу https://archive.ics.uci.edu/ml/machine-learning-databases/housing/"
   ]
  },
  {
   "cell_type": "markdown",
   "metadata": {},
   "source": [
    "Нам понадобится решать задачу регрессии с помощью метода k ближайших соседей — воспользуйтесь для этого классом sklearn.neighbors.KNeighborsRegressor. Метрика задается с помощью параметра metric, нас будет интересовать значение ’minkowski’. Параметр метрики Минковского задается с помощью параметра p данного класса."
   ]
  },
  {
   "cell_type": "markdown",
   "metadata": {},
   "source": [
    "Главным параметром любого метрического алгоритма является функция расстояния (или метрика), используемая для измерения сходства между объектами. Можно использовать стандартный вариант (например, евклидову метрику), но гораздо более эффективным вариантом является подбор метрики под конкретную задачу. Один из подходов — использование той же евклидовой метрики, но с весами: каждой координате ставится в соответствие определенный коэффициент; чем он больше, тем выше вклад признака в итоговое расстояние. Веса настраиваются с целью оптимизации качества на отложенной выборке. Другой подход, о котором и пойдет речь в данном задании — выбор метрики из некоторого класса метрик. Мы возьмем за основу метрику Минковского:"
   ]
  },
  {
   "cell_type": "markdown",
   "metadata": {},
   "source": [
    "<img src=\"https://d3c33hcgiwev3.cloudfront.net/imageAssetProxy.v1/IVbNGtGfEeWLWxKOx1I7mw_6e7648048323d85395ddb630fdd95a7c_mink.png?expiry=1588032000000&hmac=478LBmvXdtc6JynIZGKkQMa8CS7W2PQbOMtkctshlj8\" width=400px>\n",
    "\n",
    "Параметром метрики Минковского является число p, которое мы и будем настраивать."
   ]
  },
  {
   "cell_type": "markdown",
   "metadata": {},
   "source": [
    "1. Загрузите выборку Boston с помощью функции sklearn.datasets.load_boston(). Результатом вызова данной функции является объект, у которого признаки записаны в поле data, а целевой вектор — в поле target.\n",
    "2. Приведите признаки в выборке к одному масштабу при помощи функции sklearn.preprocessing.scale."
   ]
  },
  {
   "cell_type": "code",
   "execution_count": 13,
   "metadata": {},
   "outputs": [],
   "source": [
    "from sklearn.datasets import load_boston\n",
    "from sklearn.neighbors import KNeighborsRegressor\n",
    "from sklearn.metrics import mean_squared_error"
   ]
  },
  {
   "cell_type": "code",
   "execution_count": 14,
   "metadata": {},
   "outputs": [
    {
     "data": {
      "text/html": [
       "<div>\n",
       "<style scoped>\n",
       "    .dataframe tbody tr th:only-of-type {\n",
       "        vertical-align: middle;\n",
       "    }\n",
       "\n",
       "    .dataframe tbody tr th {\n",
       "        vertical-align: top;\n",
       "    }\n",
       "\n",
       "    .dataframe thead th {\n",
       "        text-align: right;\n",
       "    }\n",
       "</style>\n",
       "<table border=\"1\" class=\"dataframe\">\n",
       "  <thead>\n",
       "    <tr style=\"text-align: right;\">\n",
       "      <th></th>\n",
       "      <th>CRIM</th>\n",
       "      <th>ZN</th>\n",
       "      <th>INDUS</th>\n",
       "      <th>CHAS</th>\n",
       "      <th>NOX</th>\n",
       "      <th>RM</th>\n",
       "      <th>AGE</th>\n",
       "      <th>DIS</th>\n",
       "      <th>RAD</th>\n",
       "      <th>TAX</th>\n",
       "      <th>PTRATIO</th>\n",
       "      <th>B</th>\n",
       "      <th>LSTAT</th>\n",
       "    </tr>\n",
       "  </thead>\n",
       "  <tbody>\n",
       "    <tr>\n",
       "      <th>0</th>\n",
       "      <td>0.00632</td>\n",
       "      <td>18.0</td>\n",
       "      <td>2.31</td>\n",
       "      <td>0.0</td>\n",
       "      <td>0.538</td>\n",
       "      <td>6.575</td>\n",
       "      <td>65.2</td>\n",
       "      <td>4.0900</td>\n",
       "      <td>1.0</td>\n",
       "      <td>296.0</td>\n",
       "      <td>15.3</td>\n",
       "      <td>396.90</td>\n",
       "      <td>4.98</td>\n",
       "    </tr>\n",
       "    <tr>\n",
       "      <th>1</th>\n",
       "      <td>0.02731</td>\n",
       "      <td>0.0</td>\n",
       "      <td>7.07</td>\n",
       "      <td>0.0</td>\n",
       "      <td>0.469</td>\n",
       "      <td>6.421</td>\n",
       "      <td>78.9</td>\n",
       "      <td>4.9671</td>\n",
       "      <td>2.0</td>\n",
       "      <td>242.0</td>\n",
       "      <td>17.8</td>\n",
       "      <td>396.90</td>\n",
       "      <td>9.14</td>\n",
       "    </tr>\n",
       "    <tr>\n",
       "      <th>2</th>\n",
       "      <td>0.02729</td>\n",
       "      <td>0.0</td>\n",
       "      <td>7.07</td>\n",
       "      <td>0.0</td>\n",
       "      <td>0.469</td>\n",
       "      <td>7.185</td>\n",
       "      <td>61.1</td>\n",
       "      <td>4.9671</td>\n",
       "      <td>2.0</td>\n",
       "      <td>242.0</td>\n",
       "      <td>17.8</td>\n",
       "      <td>392.83</td>\n",
       "      <td>4.03</td>\n",
       "    </tr>\n",
       "    <tr>\n",
       "      <th>3</th>\n",
       "      <td>0.03237</td>\n",
       "      <td>0.0</td>\n",
       "      <td>2.18</td>\n",
       "      <td>0.0</td>\n",
       "      <td>0.458</td>\n",
       "      <td>6.998</td>\n",
       "      <td>45.8</td>\n",
       "      <td>6.0622</td>\n",
       "      <td>3.0</td>\n",
       "      <td>222.0</td>\n",
       "      <td>18.7</td>\n",
       "      <td>394.63</td>\n",
       "      <td>2.94</td>\n",
       "    </tr>\n",
       "    <tr>\n",
       "      <th>4</th>\n",
       "      <td>0.06905</td>\n",
       "      <td>0.0</td>\n",
       "      <td>2.18</td>\n",
       "      <td>0.0</td>\n",
       "      <td>0.458</td>\n",
       "      <td>7.147</td>\n",
       "      <td>54.2</td>\n",
       "      <td>6.0622</td>\n",
       "      <td>3.0</td>\n",
       "      <td>222.0</td>\n",
       "      <td>18.7</td>\n",
       "      <td>396.90</td>\n",
       "      <td>5.33</td>\n",
       "    </tr>\n",
       "    <tr>\n",
       "      <th>...</th>\n",
       "      <td>...</td>\n",
       "      <td>...</td>\n",
       "      <td>...</td>\n",
       "      <td>...</td>\n",
       "      <td>...</td>\n",
       "      <td>...</td>\n",
       "      <td>...</td>\n",
       "      <td>...</td>\n",
       "      <td>...</td>\n",
       "      <td>...</td>\n",
       "      <td>...</td>\n",
       "      <td>...</td>\n",
       "      <td>...</td>\n",
       "    </tr>\n",
       "    <tr>\n",
       "      <th>501</th>\n",
       "      <td>0.06263</td>\n",
       "      <td>0.0</td>\n",
       "      <td>11.93</td>\n",
       "      <td>0.0</td>\n",
       "      <td>0.573</td>\n",
       "      <td>6.593</td>\n",
       "      <td>69.1</td>\n",
       "      <td>2.4786</td>\n",
       "      <td>1.0</td>\n",
       "      <td>273.0</td>\n",
       "      <td>21.0</td>\n",
       "      <td>391.99</td>\n",
       "      <td>9.67</td>\n",
       "    </tr>\n",
       "    <tr>\n",
       "      <th>502</th>\n",
       "      <td>0.04527</td>\n",
       "      <td>0.0</td>\n",
       "      <td>11.93</td>\n",
       "      <td>0.0</td>\n",
       "      <td>0.573</td>\n",
       "      <td>6.120</td>\n",
       "      <td>76.7</td>\n",
       "      <td>2.2875</td>\n",
       "      <td>1.0</td>\n",
       "      <td>273.0</td>\n",
       "      <td>21.0</td>\n",
       "      <td>396.90</td>\n",
       "      <td>9.08</td>\n",
       "    </tr>\n",
       "    <tr>\n",
       "      <th>503</th>\n",
       "      <td>0.06076</td>\n",
       "      <td>0.0</td>\n",
       "      <td>11.93</td>\n",
       "      <td>0.0</td>\n",
       "      <td>0.573</td>\n",
       "      <td>6.976</td>\n",
       "      <td>91.0</td>\n",
       "      <td>2.1675</td>\n",
       "      <td>1.0</td>\n",
       "      <td>273.0</td>\n",
       "      <td>21.0</td>\n",
       "      <td>396.90</td>\n",
       "      <td>5.64</td>\n",
       "    </tr>\n",
       "    <tr>\n",
       "      <th>504</th>\n",
       "      <td>0.10959</td>\n",
       "      <td>0.0</td>\n",
       "      <td>11.93</td>\n",
       "      <td>0.0</td>\n",
       "      <td>0.573</td>\n",
       "      <td>6.794</td>\n",
       "      <td>89.3</td>\n",
       "      <td>2.3889</td>\n",
       "      <td>1.0</td>\n",
       "      <td>273.0</td>\n",
       "      <td>21.0</td>\n",
       "      <td>393.45</td>\n",
       "      <td>6.48</td>\n",
       "    </tr>\n",
       "    <tr>\n",
       "      <th>505</th>\n",
       "      <td>0.04741</td>\n",
       "      <td>0.0</td>\n",
       "      <td>11.93</td>\n",
       "      <td>0.0</td>\n",
       "      <td>0.573</td>\n",
       "      <td>6.030</td>\n",
       "      <td>80.8</td>\n",
       "      <td>2.5050</td>\n",
       "      <td>1.0</td>\n",
       "      <td>273.0</td>\n",
       "      <td>21.0</td>\n",
       "      <td>396.90</td>\n",
       "      <td>7.88</td>\n",
       "    </tr>\n",
       "  </tbody>\n",
       "</table>\n",
       "<p>506 rows × 13 columns</p>\n",
       "</div>"
      ],
      "text/plain": [
       "        CRIM    ZN  INDUS  CHAS    NOX     RM   AGE     DIS  RAD    TAX  \\\n",
       "0    0.00632  18.0   2.31   0.0  0.538  6.575  65.2  4.0900  1.0  296.0   \n",
       "1    0.02731   0.0   7.07   0.0  0.469  6.421  78.9  4.9671  2.0  242.0   \n",
       "2    0.02729   0.0   7.07   0.0  0.469  7.185  61.1  4.9671  2.0  242.0   \n",
       "3    0.03237   0.0   2.18   0.0  0.458  6.998  45.8  6.0622  3.0  222.0   \n",
       "4    0.06905   0.0   2.18   0.0  0.458  7.147  54.2  6.0622  3.0  222.0   \n",
       "..       ...   ...    ...   ...    ...    ...   ...     ...  ...    ...   \n",
       "501  0.06263   0.0  11.93   0.0  0.573  6.593  69.1  2.4786  1.0  273.0   \n",
       "502  0.04527   0.0  11.93   0.0  0.573  6.120  76.7  2.2875  1.0  273.0   \n",
       "503  0.06076   0.0  11.93   0.0  0.573  6.976  91.0  2.1675  1.0  273.0   \n",
       "504  0.10959   0.0  11.93   0.0  0.573  6.794  89.3  2.3889  1.0  273.0   \n",
       "505  0.04741   0.0  11.93   0.0  0.573  6.030  80.8  2.5050  1.0  273.0   \n",
       "\n",
       "     PTRATIO       B  LSTAT  \n",
       "0       15.3  396.90   4.98  \n",
       "1       17.8  396.90   9.14  \n",
       "2       17.8  392.83   4.03  \n",
       "3       18.7  394.63   2.94  \n",
       "4       18.7  396.90   5.33  \n",
       "..       ...     ...    ...  \n",
       "501     21.0  391.99   9.67  \n",
       "502     21.0  396.90   9.08  \n",
       "503     21.0  396.90   5.64  \n",
       "504     21.0  393.45   6.48  \n",
       "505     21.0  396.90   7.88  \n",
       "\n",
       "[506 rows x 13 columns]"
      ]
     },
     "execution_count": 14,
     "metadata": {},
     "output_type": "execute_result"
    }
   ],
   "source": [
    "boston_data = load_boston() # np array\n",
    "boston_features = pd.DataFrame(boston_data.data, columns=boston_data.feature_names) # to DataFrame\n",
    "boston_target =  pd.DataFrame(boston_data.target) # to DataFrame\n",
    "boston_features"
   ]
  },
  {
   "cell_type": "code",
   "execution_count": 15,
   "metadata": {},
   "outputs": [
    {
     "data": {
      "text/plain": [
       "array([[-0.41978194,  0.28482986, -1.2879095 , ..., -1.45900038,\n",
       "         0.44105193, -1.0755623 ],\n",
       "       [-0.41733926, -0.48772236, -0.59338101, ..., -0.30309415,\n",
       "         0.44105193, -0.49243937],\n",
       "       [-0.41734159, -0.48772236, -0.59338101, ..., -0.30309415,\n",
       "         0.39642699, -1.2087274 ],\n",
       "       ...,\n",
       "       [-0.41344658, -0.48772236,  0.11573841, ...,  1.17646583,\n",
       "         0.44105193, -0.98304761],\n",
       "       [-0.40776407, -0.48772236,  0.11573841, ...,  1.17646583,\n",
       "         0.4032249 , -0.86530163],\n",
       "       [-0.41500016, -0.48772236,  0.11573841, ...,  1.17646583,\n",
       "         0.44105193, -0.66905833]])"
      ]
     },
     "execution_count": 15,
     "metadata": {},
     "output_type": "execute_result"
    }
   ],
   "source": [
    "boston_features = scale(boston_features)\n",
    "boston_features"
   ]
  },
  {
   "cell_type": "markdown",
   "metadata": {},
   "source": [
    "3. Переберите разные варианты параметра метрики p по сетке от 1 до 10 с таким шагом, чтобы всего было протестировано 200 вариантов (используйте функцию numpy.linspace). Используйте KNeighborsRegressor с n_neighbors=5 и weights='distance' — данный параметр добавляет в алгоритм веса, зависящие от расстояния до ближайших соседей. В качестве метрики качества используйте среднеквадратичную ошибку (параметр scoring='mean_squared_error' у cross_val_score; при использовании библиотеки scikit-learn версии 0.18.1 и выше необходимо указывать scoring='neg_mean_squared_error'). Качество оценивайте, как и в предыдущем задании, с помощью кросс-валидации по 5 блокам с random_state = 42, не забудьте включить перемешивание выборки (shuffle=True).\n",
    "4. Определите, при каком p качество на кросс-валидации оказалось оптимальным. Обратите внимание, что cross_val_score возвращает массив показателей качества по блокам; необходимо максимизировать среднее этих показателей. Это значение параметра и будет ответом на задачу."
   ]
  },
  {
   "cell_type": "code",
   "execution_count": 16,
   "metadata": {},
   "outputs": [],
   "source": [
    "clf_regknn = KNeighborsRegressor(metric='minkowski', n_neighbors=5, weights='distance')"
   ]
  },
  {
   "cell_type": "code",
   "execution_count": 17,
   "metadata": {},
   "outputs": [],
   "source": [
    "search = GridSearchCV(clf_regknn, \n",
    "                      {'p': np.linspace(1, 10, 200)}, \n",
    "                      cv=KFold(n_splits=5, \n",
    "                               shuffle=True, \n",
    "                               random_state=42), \n",
    "                      scoring='neg_mean_squared_error')"
   ]
  },
  {
   "cell_type": "code",
   "execution_count": 18,
   "metadata": {},
   "outputs": [
    {
     "data": {
      "text/plain": [
       "GridSearchCV(cv=KFold(n_splits=5, random_state=42, shuffle=True),\n",
       "             error_score=nan,\n",
       "             estimator=KNeighborsRegressor(algorithm='auto', leaf_size=30,\n",
       "                                           metric='minkowski',\n",
       "                                           metric_params=None, n_jobs=None,\n",
       "                                           n_neighbors=5, p=2,\n",
       "                                           weights='distance'),\n",
       "             iid='deprecated', n_jobs=None,\n",
       "             param_grid={'p': array([ 1.        ,  1.04522613,  1.09045226,  1.13567839,  1.18090452,\n",
       "        1.22613065,  1.27135678,  1....\n",
       "        8.91457286,  8.95979899,  9.00502513,  9.05025126,  9.09547739,\n",
       "        9.14070352,  9.18592965,  9.23115578,  9.27638191,  9.32160804,\n",
       "        9.36683417,  9.4120603 ,  9.45728643,  9.50251256,  9.54773869,\n",
       "        9.59296482,  9.63819095,  9.68341709,  9.72864322,  9.77386935,\n",
       "        9.81909548,  9.86432161,  9.90954774,  9.95477387, 10.        ])},\n",
       "             pre_dispatch='2*n_jobs', refit=True, return_train_score=False,\n",
       "             scoring='neg_mean_squared_error', verbose=0)"
      ]
     },
     "execution_count": 18,
     "metadata": {},
     "output_type": "execute_result"
    }
   ],
   "source": [
    "search.fit(boston_features, boston_target)"
   ]
  },
  {
   "cell_type": "code",
   "execution_count": 19,
   "metadata": {},
   "outputs": [
    {
     "data": {
      "text/plain": [
       "-16.030646734221644"
      ]
     },
     "execution_count": 19,
     "metadata": {},
     "output_type": "execute_result"
    }
   ],
   "source": [
    "search.best_score_"
   ]
  },
  {
   "cell_type": "code",
   "execution_count": 20,
   "metadata": {},
   "outputs": [
    {
     "data": {
      "text/plain": [
       "{'p': 1.0}"
      ]
     },
     "execution_count": 20,
     "metadata": {},
     "output_type": "execute_result"
    }
   ],
   "source": [
    "search.best_params_"
   ]
  },
  {
   "cell_type": "markdown",
   "metadata": {},
   "source": [
    "Обратите внимание, что евклидова метрика (p=2) — не самый лучший вариант для этой задачи!"
   ]
  },
  {
   "cell_type": "markdown",
   "metadata": {},
   "source": [
    "# Следующая задача:\n",
    "## Введение\n",
    "Линейные алгоритмы — распространенный класс моделей, которые отличается своей простотой и скоростью работы. Их можно обучать за разумное время на очень больших объемах данных, и при этом они могут работать с любыми типами признаков — вещественными, категориальными, разреженными. В этом задании мы предлагаем вам воспользоваться персептроном — одним из простейших вариантов линейных моделей.\n",
    "\n",
    "Как и в случае с метрическими методами, качество линейных алгоритмов зависит от некоторых свойств данных. В частности, признаки должны быть нормализованы, то есть иметь одинаковый масштаб. Если это не так, и масштаб одного признака сильно превосходит масштаб других, то качество может резко упасть.\n",
    "\n",
    "Один из способов нормализации заключается в стандартизации признаков. Для этого берется набор значений признака на всех объектах, вычисляется их среднее значение и стандартное отклонение. После этого из всех значений признака вычитается среднее, и затем полученная разность делится на стандартное отклонение."
   ]
  },
  {
   "cell_type": "markdown",
   "metadata": {},
   "source": [
    "Для стандартизации признаков удобно воспользоваться классом sklearn.preprocessing.StandardScaler. Функция fit_transform данного класса находит параметры нормализации (средние и дисперсии каждого признака) по выборке, и сразу же делает нормализацию выборки с использованием этих параметров. Функция transform делает нормализацию на основе уже найденных параметров."
   ]
  },
  {
   "cell_type": "code",
   "execution_count": 21,
   "metadata": {},
   "outputs": [],
   "source": [
    "from sklearn.linear_model import Perceptron\n",
    "from sklearn.metrics import accuracy_score\n",
    "# первым аргументом является вектор правильных ответов, а вторым — вектор ответов алгоритма.\n",
    "from sklearn.preprocessing import StandardScaler"
   ]
  },
  {
   "cell_type": "markdown",
   "metadata": {},
   "source": [
    "1. Загрузите обучающую и тестовую выборки из файлов perceptron-train.csv и perceptron-test.csv. Целевая переменная записана в первом столбце, признаки — во втором и третьем.\n",
    "2. Обучите персептрон со стандартными параметрами и random_state=241."
   ]
  },
  {
   "cell_type": "code",
   "execution_count": 22,
   "metadata": {},
   "outputs": [
    {
     "data": {
      "text/plain": [
       "0     -1.0\n",
       "1      1.0\n",
       "2     -1.0\n",
       "3     -1.0\n",
       "4      1.0\n",
       "      ... \n",
       "295   -1.0\n",
       "296   -1.0\n",
       "297    1.0\n",
       "298    1.0\n",
       "299    1.0\n",
       "Name: target, Length: 300, dtype: float64"
      ]
     },
     "execution_count": 22,
     "metadata": {},
     "output_type": "execute_result"
    }
   ],
   "source": [
    "perceptron_train = pd.read_csv('_3abd237d917280ba0d83bfe6bd49776f_perceptron-train.csv', \n",
    "                               header=None, \n",
    "                               names=['target', 'feature_1', 'feature_2'])\n",
    "\n",
    "y_train = perceptron_train.pop('target')\n",
    "y_train"
   ]
  },
  {
   "cell_type": "code",
   "execution_count": 23,
   "metadata": {},
   "outputs": [
    {
     "data": {
      "text/plain": [
       "0     -1.0\n",
       "1      1.0\n",
       "2     -1.0\n",
       "3     -1.0\n",
       "4      1.0\n",
       "      ... \n",
       "195   -1.0\n",
       "196    1.0\n",
       "197    1.0\n",
       "198   -1.0\n",
       "199    1.0\n",
       "Name: target, Length: 200, dtype: float64"
      ]
     },
     "execution_count": 23,
     "metadata": {},
     "output_type": "execute_result"
    }
   ],
   "source": [
    "perceptron_test = pd.read_csv('_3abd237d917280ba0d83bfe6bd49776f_perceptron-test.csv', \n",
    "                              header=None, \n",
    "                              names=['target', 'feature_1', 'feature_2'])\n",
    "\n",
    "y_test = perceptron_test.pop('target')\n",
    "y_test"
   ]
  },
  {
   "cell_type": "code",
   "execution_count": 24,
   "metadata": {},
   "outputs": [],
   "source": [
    "prcptrn = Perceptron(random_state=241, max_iter=5, tol=None)"
   ]
  },
  {
   "cell_type": "code",
   "execution_count": 25,
   "metadata": {},
   "outputs": [
    {
     "data": {
      "text/plain": [
       "Perceptron(alpha=0.0001, class_weight=None, early_stopping=False, eta0=1.0,\n",
       "           fit_intercept=True, max_iter=5, n_iter_no_change=5, n_jobs=None,\n",
       "           penalty=None, random_state=241, shuffle=True, tol=None,\n",
       "           validation_fraction=0.1, verbose=0, warm_start=False)"
      ]
     },
     "execution_count": 25,
     "metadata": {},
     "output_type": "execute_result"
    }
   ],
   "source": [
    "prcptrn.fit(perceptron_train, y_train)"
   ]
  },
  {
   "cell_type": "markdown",
   "metadata": {},
   "source": [
    "3. Подсчитайте качество (долю правильно классифицированных объектов, accuracy) полученного классификатора на тестовой выборке."
   ]
  },
  {
   "cell_type": "code",
   "execution_count": 26,
   "metadata": {},
   "outputs": [
    {
     "data": {
      "text/plain": [
       "0.655"
      ]
     },
     "execution_count": 26,
     "metadata": {},
     "output_type": "execute_result"
    }
   ],
   "source": [
    "prcptrn.score(perceptron_test, y_test)"
   ]
  },
  {
   "cell_type": "markdown",
   "metadata": {},
   "source": [
    "4. Нормализуйте обучающую и тестовую выборку с помощью класса StandardScaler."
   ]
  },
  {
   "cell_type": "code",
   "execution_count": 27,
   "metadata": {},
   "outputs": [
    {
     "data": {
      "text/plain": [
       "StandardScaler(copy=True, with_mean=True, with_std=True)"
      ]
     },
     "execution_count": 27,
     "metadata": {},
     "output_type": "execute_result"
    }
   ],
   "source": [
    "std_scaler = StandardScaler()\n",
    "std_scaler.fit(perceptron_train)"
   ]
  },
  {
   "cell_type": "code",
   "execution_count": 28,
   "metadata": {},
   "outputs": [
    {
     "data": {
      "text/plain": [
       "array([[ 1.67171578e+00,  1.50744899e+00],\n",
       "       [-8.32374159e-01,  1.35261123e+00],\n",
       "       [ 8.14843791e-01, -4.12493370e-01],\n",
       "       [ 2.07920119e-01,  2.16572204e+00],\n",
       "       [-4.02605851e-01,  6.93187424e-01],\n",
       "       [-1.46865651e+00,  1.07554509e+00],\n",
       "       [-1.21763005e+00, -3.83631116e-01],\n",
       "       [-3.61791038e-01, -1.08341175e+00],\n",
       "       [ 5.01097343e-01, -6.69052911e-02],\n",
       "       [-8.48618151e-01, -1.80841461e+00],\n",
       "       [ 7.05690653e-01,  4.93807275e-01],\n",
       "       [ 1.08149150e-01,  1.83716080e+00],\n",
       "       [ 5.80169128e-01,  4.84600472e-01],\n",
       "       [ 7.79082214e-01,  3.87322485e+00],\n",
       "       [-6.88592246e-02,  1.03931536e+00],\n",
       "       [ 1.26539481e+00,  1.78114706e+00],\n",
       "       [-3.59393234e-01, -4.09192508e-01],\n",
       "       [-8.31317070e-01,  5.06364987e-01],\n",
       "       [-9.84692062e-01,  9.19730255e-01],\n",
       "       [-3.23600125e-01, -6.09350961e-01],\n",
       "       [ 2.97171869e+00, -1.24493950e+00],\n",
       "       [ 4.62837305e-01, -8.65868113e-02],\n",
       "       [-3.47734322e-01, -1.25743507e+00],\n",
       "       [ 1.53032667e-01,  1.80125238e-01],\n",
       "       [ 1.32846353e-01, -2.07984807e+00],\n",
       "       [-1.87390478e-01,  1.10016132e+00],\n",
       "       [ 6.05713377e-01, -1.09117780e+00],\n",
       "       [-2.83670160e-01, -7.47584682e-01],\n",
       "       [-3.60109293e-01,  1.01770423e+00],\n",
       "       [ 1.27769464e+00, -7.12149247e-01],\n",
       "       [ 1.47029624e+00, -1.21126461e+00],\n",
       "       [-1.04944781e+00, -2.41585525e-01],\n",
       "       [-1.38142873e-01,  1.17542419e+00],\n",
       "       [ 3.06566207e-01, -3.48927681e-01],\n",
       "       [ 1.68117942e+00,  1.12271814e+00],\n",
       "       [-1.18665755e+00,  1.44364285e-01],\n",
       "       [-2.44912268e-01,  1.25499848e-01],\n",
       "       [ 6.20162149e-01, -4.67973506e-01],\n",
       "       [ 1.28833471e+00, -1.71057735e+00],\n",
       "       [ 1.03808563e+00, -7.57623131e-01],\n",
       "       [-8.32618009e-01, -1.61440028e-01],\n",
       "       [ 2.81778844e-01,  1.03126245e+00],\n",
       "       [-3.10028032e-01,  9.44659207e-01],\n",
       "       [ 1.51360860e+00, -1.56968070e+00],\n",
       "       [-6.04887928e-01,  5.28327892e-01],\n",
       "       [ 1.62647679e-01, -6.28705231e-01],\n",
       "       [ 6.33121098e-02,  4.09757329e-01],\n",
       "       [-6.36579842e-01,  1.42126389e-01],\n",
       "       [ 1.39203587e-01, -1.23690594e+00],\n",
       "       [-9.33066754e-01, -8.18836970e-02],\n",
       "       [-2.43530466e-01,  1.90773906e+00],\n",
       "       [ 3.51048316e-01, -8.68829260e-01],\n",
       "       [-1.84443551e-01,  4.05214706e-01],\n",
       "       [ 1.82539984e+00, -2.13778277e+00],\n",
       "       [ 2.32614071e-02,  1.39564532e+00],\n",
       "       [ 1.24164241e+00, -2.27701995e+00],\n",
       "       [ 2.58308073e-03, -8.71728067e-01],\n",
       "       [ 1.51189471e+00, -6.77718873e-01],\n",
       "       [-8.96526346e-01, -1.67477834e+00],\n",
       "       [-1.04924806e+00, -5.76595958e-01],\n",
       "       [ 3.11523305e-01, -1.15228369e+00],\n",
       "       [-1.05057521e+00,  8.05519069e-01],\n",
       "       [ 1.89019532e-01, -4.88119693e-01],\n",
       "       [-8.08836725e-02, -7.80616021e-01],\n",
       "       [ 2.40857141e+00, -2.86122528e+00],\n",
       "       [-8.80917692e-01, -4.35273410e-01],\n",
       "       [ 1.09287158e+00,  4.54668098e-01],\n",
       "       [-6.53215133e-02,  8.23348981e-01],\n",
       "       [-1.34340546e+00,  5.43029016e-01],\n",
       "       [-1.22056696e+00, -7.30300948e-01],\n",
       "       [-7.97228215e-01, -1.56080771e-01],\n",
       "       [ 2.35147649e-01, -8.53152347e-03],\n",
       "       [-2.92721763e-01,  3.02081382e+00],\n",
       "       [ 4.83120312e-01, -6.68582249e-01],\n",
       "       [ 1.48092315e+00,  6.80955051e-01],\n",
       "       [-1.05030491e+00,  8.87531740e-01],\n",
       "       [ 7.70082495e-01,  1.53170142e-01],\n",
       "       [-5.18507116e-01, -6.64879351e-01],\n",
       "       [-5.50971176e-01, -1.94787316e+00],\n",
       "       [-5.56375135e-01,  1.69930088e+00],\n",
       "       [-3.25344711e-01,  9.82735536e-01],\n",
       "       [-2.58761459e+00,  1.01340019e+00],\n",
       "       [-9.70084888e-01, -1.40774822e+00],\n",
       "       [ 1.64993384e+00,  1.98628968e-01],\n",
       "       [-6.66672137e-01,  1.78645455e-01],\n",
       "       [ 7.45976785e-02, -9.51885210e-01],\n",
       "       [-2.01722391e-01,  1.14931877e+00],\n",
       "       [ 7.75841267e-01, -4.53360143e-01],\n",
       "       [-5.66889783e-02,  1.80898341e+00],\n",
       "       [ 1.75922112e-02,  1.68230653e+00],\n",
       "       [-1.27063458e+00,  8.54658115e-01],\n",
       "       [ 1.76348420e+00, -3.77324364e-02],\n",
       "       [ 3.10780553e-01, -1.89904630e-01],\n",
       "       [-1.85539959e+00, -3.29596030e-01],\n",
       "       [ 3.70112071e-01, -1.42090727e-01],\n",
       "       [ 1.01040876e+00,  4.03394012e-02],\n",
       "       [-2.95365015e-01,  3.43738319e-01],\n",
       "       [ 2.79439483e-01, -1.96541180e+00],\n",
       "       [-1.93765724e+00, -7.43426919e-01],\n",
       "       [ 3.87429095e-01, -4.40749272e-01],\n",
       "       [ 1.43886541e+00,  1.90834448e+00],\n",
       "       [ 5.82846866e-01,  6.46460632e-02],\n",
       "       [ 1.96376738e-01, -7.43906195e-02],\n",
       "       [ 1.05616155e+00, -4.93612671e-01],\n",
       "       [ 1.39904397e+00, -2.22478157e+00],\n",
       "       [-7.91099164e-01, -1.30452936e+00],\n",
       "       [ 7.37706780e-01,  3.72046348e-01],\n",
       "       [ 1.53799210e+00,  3.53038683e-01],\n",
       "       [-4.14636206e-03, -4.81366590e-01],\n",
       "       [ 1.62920520e+00, -1.97032099e-01],\n",
       "       [ 6.61804414e-01, -2.20606189e+00],\n",
       "       [ 9.13463536e-01,  2.62422353e-01],\n",
       "       [-7.38978946e-01,  2.05917180e+00],\n",
       "       [ 1.77459673e+00,  1.65037722e-02],\n",
       "       [ 8.44611818e-01,  9.11029516e-02],\n",
       "       [ 3.96945350e-01, -5.68172297e-01],\n",
       "       [-1.34278256e+00,  2.11642208e-01],\n",
       "       [-1.00372002e+00, -1.01063519e-02],\n",
       "       [-1.38156910e+00,  2.04848250e+00],\n",
       "       [-2.39569797e+00,  1.66161326e+00],\n",
       "       [-9.14233668e-02, -1.56183454e+00],\n",
       "       [ 1.51254870e+00,  2.13581319e+00],\n",
       "       [ 1.68566276e-01,  4.64212844e-01],\n",
       "       [-1.09941052e-01,  8.18458709e-01],\n",
       "       [ 1.88204420e+00,  1.28951194e+00],\n",
       "       [-5.65459703e-01, -9.13207945e-01],\n",
       "       [ 1.22274864e+00, -1.50289017e-01],\n",
       "       [-1.93722004e-01, -6.12769819e-01],\n",
       "       [ 5.39520504e-01,  1.22414870e+00],\n",
       "       [-1.43323487e-01,  1.98068665e+00],\n",
       "       [ 1.71808194e+00, -6.58878926e-01],\n",
       "       [-4.15952226e-01,  2.92601466e-01],\n",
       "       [-4.29294462e-01,  1.21120491e+00],\n",
       "       [ 3.60293342e-01,  2.00194940e+00],\n",
       "       [-5.16545169e-01,  4.73670627e-01],\n",
       "       [-1.36591878e+00,  5.91817025e-01],\n",
       "       [-4.98399618e-01, -7.67684187e-02],\n",
       "       [ 3.66085399e-01, -2.59457791e-01],\n",
       "       [-4.02422111e-01,  1.26263864e+00],\n",
       "       [-1.37893997e+00, -7.64739630e-02],\n",
       "       [ 5.88376394e-02, -7.07462160e-01],\n",
       "       [-1.32661848e+00, -1.38535863e+00],\n",
       "       [ 2.25293532e-01, -1.52951861e+00],\n",
       "       [-2.51717024e-01,  7.27668927e-02],\n",
       "       [ 1.22304718e-01,  1.03459880e+00],\n",
       "       [-7.64317883e-01, -1.77559721e+00],\n",
       "       [ 6.51005972e-02, -5.89294029e-01],\n",
       "       [-1.00369927e-01, -6.59675538e-02],\n",
       "       [-7.71581515e-01, -1.08956306e+00],\n",
       "       [-1.56228478e+00, -1.53327623e-01],\n",
       "       [ 5.49699828e-01,  2.00853927e-01],\n",
       "       [-1.56777665e+00,  2.93948747e-01],\n",
       "       [ 1.13663866e+00,  1.10744199e+00],\n",
       "       [-6.55405712e-01,  1.10757338e+00],\n",
       "       [ 1.88781120e+00,  1.23460852e+00],\n",
       "       [-1.06181373e+00,  3.20331113e-01],\n",
       "       [-1.27261078e+00, -1.76461207e-01],\n",
       "       [-1.76168551e-01,  9.09569841e-01],\n",
       "       [ 1.63692781e-01, -1.06583820e+00],\n",
       "       [-3.97197102e-01, -4.74757689e-01],\n",
       "       [-2.14497718e-01,  9.08512227e-01],\n",
       "       [-7.95073972e-01, -2.03576260e+00],\n",
       "       [-1.17735678e+00,  2.56066651e+00],\n",
       "       [ 2.20412236e+00,  6.73214354e-01],\n",
       "       [-9.22960064e-01, -3.06505731e-01],\n",
       "       [-9.52021472e-01,  1.75952352e+00],\n",
       "       [-1.21495405e+00, -1.17676001e-01],\n",
       "       [ 1.18517275e+00,  1.50022388e+00],\n",
       "       [-7.27751520e-01,  4.10227579e-01],\n",
       "       [ 4.04205745e-01,  1.12220132e+00],\n",
       "       [-3.23516215e-01,  3.03667244e-01],\n",
       "       [-7.39103241e-01, -2.17775772e-02],\n",
       "       [-2.20979998e+00,  4.41493764e-01],\n",
       "       [-1.42770438e+00, -6.84427021e-01],\n",
       "       [ 4.95619853e-02, -1.25550435e+00],\n",
       "       [-5.49293941e-01,  5.39023603e-01],\n",
       "       [-6.26170095e-01, -8.83714620e-01],\n",
       "       [ 1.44022562e-01,  1.12567162e+00],\n",
       "       [-7.11693262e-01,  1.50826088e+00],\n",
       "       [ 1.54116732e+00,  1.16275323e+00],\n",
       "       [-1.63539925e-01,  8.82337431e-01],\n",
       "       [ 6.37121697e-01,  2.69330828e-01],\n",
       "       [-3.67074904e-01, -1.08672971e+00],\n",
       "       [-1.09277012e+00,  2.57924500e-01],\n",
       "       [ 1.28968961e+00, -5.69613879e-01],\n",
       "       [ 3.06509183e-01,  2.14884784e+00],\n",
       "       [-2.17931247e-01, -4.90907238e-01],\n",
       "       [ 1.71877598e-01,  1.24352905e+00],\n",
       "       [-1.20119345e+00,  3.79989126e-01],\n",
       "       [ 1.89926461e-01,  6.05265789e-01],\n",
       "       [ 4.12306953e-01, -4.27458140e-01],\n",
       "       [ 6.39055187e-01,  1.59596359e+00],\n",
       "       [-3.18393529e+00,  1.22896315e+00],\n",
       "       [-1.23102738e+00,  1.28142199e-01],\n",
       "       [-3.71790948e-01, -2.52425396e-01],\n",
       "       [ 1.17324020e+00,  2.80187764e+00],\n",
       "       [-6.99077761e-01,  2.60345147e-01],\n",
       "       [ 4.39999933e-01, -1.58955293e+00],\n",
       "       [-6.87845284e-02,  8.13408018e-01],\n",
       "       [ 7.86123904e-01, -1.57922030e+00]])"
      ]
     },
     "execution_count": 28,
     "metadata": {},
     "output_type": "execute_result"
    }
   ],
   "source": [
    "perceptron_train = std_scaler.fit_transform(perceptron_train)\n",
    "perceptron_test = std_scaler.transform(perceptron_test)\n",
    "\n",
    "perceptron_test"
   ]
  },
  {
   "cell_type": "markdown",
   "metadata": {},
   "source": [
    "5. Обучите персептрон на новой выборке. Найдите долю правильных ответов на тестовой выборке."
   ]
  },
  {
   "cell_type": "code",
   "execution_count": 29,
   "metadata": {},
   "outputs": [
    {
     "data": {
      "text/plain": [
       "Perceptron(alpha=0.0001, class_weight=None, early_stopping=False, eta0=1.0,\n",
       "           fit_intercept=True, max_iter=5, n_iter_no_change=5, n_jobs=None,\n",
       "           penalty=None, random_state=241, shuffle=True, tol=None,\n",
       "           validation_fraction=0.1, verbose=0, warm_start=False)"
      ]
     },
     "execution_count": 29,
     "metadata": {},
     "output_type": "execute_result"
    }
   ],
   "source": [
    "prcptrn.fit(perceptron_train, y_train)"
   ]
  },
  {
   "cell_type": "code",
   "execution_count": 30,
   "metadata": {},
   "outputs": [
    {
     "data": {
      "text/plain": [
       "0.84"
      ]
     },
     "execution_count": 30,
     "metadata": {},
     "output_type": "execute_result"
    }
   ],
   "source": [
    "prcptrn.score(perceptron_test, y_test)"
   ]
  },
  {
   "cell_type": "markdown",
   "metadata": {},
   "source": [
    "6. Найдите разность между качеством на тестовой выборке после нормализации и качеством до нее. Это число и будет ответом на задание."
   ]
  },
  {
   "cell_type": "code",
   "execution_count": 31,
   "metadata": {},
   "outputs": [
    {
     "data": {
      "text/plain": [
       "0.18499999999999994"
      ]
     },
     "execution_count": 31,
     "metadata": {},
     "output_type": "execute_result"
    }
   ],
   "source": [
    "0.84 - 0.655"
   ]
  },
  {
   "cell_type": "code",
   "execution_count": null,
   "metadata": {},
   "outputs": [],
   "source": []
  }
 ],
 "metadata": {
  "kernelspec": {
   "display_name": "Python 3",
   "language": "python",
   "name": "python3"
  },
  "language_info": {
   "codemirror_mode": {
    "name": "ipython",
    "version": 3
   },
   "file_extension": ".py",
   "mimetype": "text/x-python",
   "name": "python",
   "nbconvert_exporter": "python",
   "pygments_lexer": "ipython3",
   "version": "3.7.6"
  }
 },
 "nbformat": 4,
 "nbformat_minor": 4
}
